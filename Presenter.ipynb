{
 "cells": [
  {
   "cell_type": "code",
   "execution_count": 1,
   "metadata": {},
   "outputs": [],
   "source": [
    "from trainer import *"
   ]
  },
  {
   "cell_type": "code",
   "execution_count": 2,
   "metadata": {},
   "outputs": [],
   "source": [
    "algorithm = algorithm_factories[\"ddpg\"]"
   ]
  },
  {
   "cell_type": "code",
   "execution_count": 3,
   "metadata": {},
   "outputs": [
    {
     "name": "stderr",
     "output_type": "stream",
     "text": [
      "INFO:unityagents:\n",
      "'Academy' started successfully!\n",
      "Unity Academy name: Academy\n",
      "        Number of Brains: 1\n",
      "        Number of External Brains : 1\n",
      "        Lesson number : 0\n",
      "        Reset Parameters :\n",
      "\t\t\n",
      "Unity brain name: TennisBrain\n",
      "        Number of Visual Observations (per agent): 0\n",
      "        Vector Observation space type: continuous\n",
      "        Vector Observation space size (per agent): 8\n",
      "        Number of stacked Vector Observation: 3\n",
      "        Vector Action space type: continuous\n",
      "        Vector Action space size (per agent): 2\n",
      "        Vector Action descriptions: , \n"
     ]
    }
   ],
   "source": [
    "env = UnityEnvironment(file_name=ENVIRONMENT_BINARY)\n",
    "(brain_name, num_agents, action_size, state_size) = infer_environment_properties(env)\n",
    "actor_net_filename=\"./weights_actor.pth\"\n",
    "critic_net_filename=\"./weights_critic.pth\""
   ]
  },
  {
   "cell_type": "code",
   "execution_count": 4,
   "metadata": {},
   "outputs": [],
   "source": [
    "hparm = ac_parm(\n",
    "    state_size, \n",
    "    action_size, \n",
    "    int(1e5), \n",
    "    brain_name, \n",
    "    512,  \n",
    "    0.99, \n",
    "    1e-3, \n",
    "    1e-4, \n",
    "    1e-3, \n",
    "    0,    \n",
    "    1, \n",
    "    False, \n",
    "    False, \n",
    "    True, \n",
    "    600, \n",
    "    1)\n",
    "seed = 1"
   ]
  },
  {
   "cell_type": "code",
   "execution_count": 5,
   "metadata": {},
   "outputs": [],
   "source": [
    "agent = algorithm(hparm, seed)"
   ]
  },
  {
   "cell_type": "code",
   "execution_count": 6,
   "metadata": {},
   "outputs": [
    {
     "data": {
      "text/plain": [
       "Critic(\n",
       "  (fc1): Linear(in_features=24, out_features=400, bias=True)\n",
       "  (fc2): Linear(in_features=402, out_features=300, bias=True)\n",
       "  (fc3): Linear(in_features=300, out_features=1, bias=True)\n",
       ")"
      ]
     },
     "execution_count": 6,
     "metadata": {},
     "output_type": "execute_result"
    }
   ],
   "source": [
    "agent.actor_local.load_state_dict(torch.load(actor_net_filename))\n",
    "agent.actor_local.eval()\n",
    "agent.critic_local.load_state_dict(torch.load(critic_net_filename))\n",
    "agent.critic_local.eval()"
   ]
  },
  {
   "cell_type": "code",
   "execution_count": null,
   "metadata": {},
   "outputs": [],
   "source": [
    "env_info = env.reset(train_mode=False)[agent.name]\n",
    "states = env_info.vector_observations\n",
    "episode_scores = []\n",
    "episode_rewards = []\n",
    "for t in range(2000):\n",
    "    states = env_info.vector_observations\n",
    "    actions = agent.act(states)\n",
    "    actions = np.clip(actions, -1, 1)\n",
    "    env_info = env.step(actions)[agent.name]\n",
    "    dones = env_info.local_done"
   ]
  },
  {
   "cell_type": "code",
   "execution_count": null,
   "metadata": {},
   "outputs": [],
   "source": []
  }
 ],
 "metadata": {
  "kernelspec": {
   "display_name": "Python 3",
   "language": "python",
   "name": "python3"
  },
  "language_info": {
   "codemirror_mode": {
    "name": "ipython",
    "version": 3
   },
   "file_extension": ".py",
   "mimetype": "text/x-python",
   "name": "python",
   "nbconvert_exporter": "python",
   "pygments_lexer": "ipython3",
   "version": "3.6.5"
  }
 },
 "nbformat": 4,
 "nbformat_minor": 2
}
