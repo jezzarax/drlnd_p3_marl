{
 "cells": [
  {
   "cell_type": "code",
   "execution_count": null,
   "metadata": {},
   "outputs": [],
   "source": [
    "import pandas as pd\n",
    "import seaborn as sb\n",
    "\n",
    "from trainer import *"
   ]
  },
  {
   "cell_type": "code",
   "execution_count": null,
   "metadata": {},
   "outputs": [],
   "source": [
    "sb.set(rc={'figure.figsize':(15,12)}, style=\"darkgrid\")"
   ]
  },
  {
   "cell_type": "code",
   "execution_count": null,
   "metadata": {},
   "outputs": [],
   "source": [
    "algorithm = algorithm_factories[\"ddpg\"]"
   ]
  },
  {
   "cell_type": "code",
   "execution_count": null,
   "metadata": {},
   "outputs": [],
   "source": [
    "env = prepare_environment()"
   ]
  },
  {
   "cell_type": "code",
   "execution_count": null,
   "metadata": {},
   "outputs": [],
   "source": [
    "(brain_name, num_agents, action_size, state_size) = infer_environment_properties(env)"
   ]
  },
  {
   "cell_type": "code",
   "execution_count": null,
   "metadata": {},
   "outputs": [],
   "source": [
    "hparm = ddpg_parm(\n",
    "    int(1e5), \n",
    "    4096, \n",
    "    0.99, \n",
    "    1e-3, \n",
    "    1e-4, \n",
    "    1e-4, \n",
    "    0,    \n",
    "    False, \n",
    "    False, \n",
    "    1)\n",
    "seed = 1\n",
    "success_score=0.5"
   ]
  },
  {
   "cell_type": "code",
   "execution_count": null,
   "metadata": {},
   "outputs": [],
   "source": [
    "agent = algorithm(hparm, env_parm(state_size, action_size, brain_name, num_agents), seed)\n",
    "scores = pd.DataFrame(train(agent, env, store_weights_to=\"weights.pth\"))\n",
    "env.close()"
   ]
  },
  {
   "cell_type": "code",
   "execution_count": null,
   "metadata": {},
   "outputs": [],
   "source": [
    "scores_mean = scores.rolling(window = 100).mean()\n",
    "plt = sb.lineplot(data = scores_mean)\n",
    "plt.vlines(scores_mean[scores_mean > success_score].index.min(), ymin = 0, ymax = scores_mean.max())\n",
    "plt.set(xlabel=\"Episode\", ylabel=\"Score\")"
   ]
  }
 ],
 "metadata": {
  "kernelspec": {
   "display_name": "Python 3",
   "language": "python",
   "name": "python3"
  },
  "language_info": {
   "codemirror_mode": {
    "name": "ipython",
    "version": 3
   },
   "file_extension": ".py",
   "mimetype": "text/x-python",
   "name": "python",
   "nbconvert_exporter": "python",
   "pygments_lexer": "ipython3",
   "version": "3.6.5"
  }
 },
 "nbformat": 4,
 "nbformat_minor": 2
}
